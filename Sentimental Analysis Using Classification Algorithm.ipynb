{
 "cells": [
  {
   "cell_type": "markdown",
   "id": "b47bdc80",
   "metadata": {},
   "source": [
    "<h3>Goal: Our goal is to find which machine learning model is best suited to predict sentiment (output) given a movie review (input).</h3>"
   ]
  },
  {
   "cell_type": "markdown",
   "id": "c18df0f4",
   "metadata": {},
   "source": [
    "<h4>Input(x) -> movie review</h4>"
   ]
  },
  {
   "cell_type": "markdown",
   "id": "70bd3364",
   "metadata": {},
   "source": [
    "<h4>Output(y) -> sentiment</h4>"
   ]
  },
  {
   "cell_type": "markdown",
   "id": "e3b42618",
   "metadata": {},
   "source": [
    "<h2>Importing the Required Libraries</h2>"
   ]
  },
  {
   "cell_type": "code",
   "execution_count": 10,
   "id": "e52f4ff6",
   "metadata": {},
   "outputs": [],
   "source": [
    "import pandas as pd\n",
    "import seaborn as sns\n",
    "import matplotlib.pyplot as plt"
   ]
  },
  {
   "cell_type": "markdown",
   "id": "b6676bc1",
   "metadata": {},
   "source": [
    "<h3>Reading Dataset</h3>"
   ]
  },
  {
   "cell_type": "code",
   "execution_count": 44,
   "id": "4877aaca",
   "metadata": {},
   "outputs": [],
   "source": [
    "df_review = pd.read_csv('IMDB Dataset.csv')\n",
    "df_review"
   ]
  },
  {
   "cell_type": "code",
   "execution_count": 46,
   "id": "3db0b4b7",
   "metadata": {},
   "outputs": [],
   "source": [
    "#taking a smaller sample of 10000 rows to make processing faster and get imbalance data\n",
    "# 9000 positives\n",
    "df_positive = df_review[df_review['sentiment']=='positive'][:9000]\n",
    "# 1000 positives\n",
    "df_negative = df_review[df_review['sentiment']=='negative'][:1000]\n",
    "\n",
    "df_review_imb =pd.concat([df_positive,df_negative])"
   ]
  },
  {
   "cell_type": "code",
   "execution_count": 47,
   "id": "3e56ce8a",
   "metadata": {},
   "outputs": [
    {
     "data": {
      "text/plain": [
       "sentiment\n",
       "positive    9000\n",
       "negative    1000\n",
       "dtype: int64"
      ]
     },
     "execution_count": 47,
     "metadata": {},
     "output_type": "execute_result"
    }
   ],
   "source": [
    "df_review_imb.value_counts('sentiment')"
   ]
  },
  {
   "cell_type": "markdown",
   "id": "c6142ac0",
   "metadata": {},
   "source": [
    "<h2>Dealing with Imbalanced Classes</h2>"
   ]
  },
  {
   "cell_type": "code",
   "execution_count": 49,
   "id": "606ebf9b",
   "metadata": {},
   "outputs": [
    {
     "data": {
      "image/png": "[encoded data removed]",
      "text/plain": [
       "<Figure size 576x288 with 1 Axes>"
      ]
     },
     "metadata": {
      "needs_background": "light"
     },
     "output_type": "display_data"
    }
   ],
   "source": [
    "colors = sns.color_palette('deep')\n",
    "\n",
    "plt.figure(figsize=(8,4), tight_layout=True)\n",
    "plt.bar(x=['Positive', 'Negative'],\n",
    "        height=df_review_imb.value_counts(['sentiment']),\n",
    "        color=colors[:2])\n",
    "plt.title('Sentiment')\n",
    "plt.savefig('sentiment.png')\n",
    "plt.show()"
   ]
  },
  {
   "cell_type": "code",
   "execution_count": 56,
   "id": "be7f1ff4",
   "metadata": {},
   "outputs": [],
   "source": [
    "#from imblearn.under_sampling import  RandomUnderSampler\n",
    "\n",
    "#rus = RandomUnderSampler(random_state=0)\n",
    "#df_review_bal, df_review_bal['sentiment']=rus.fit_resample(df_review_imb[['review']],df_review_imb['sentiment'])\n",
    "#df_review_bal\n",
    "\n",
    "# option 2\n",
    "length_negative = len(df_review_imb[df_review_imb['sentiment']=='negative'])\n",
    "df_review_positive = df_review_imb[df_review_imb['sentiment']=='positive'].sample(n=length_negative)\n",
    "df_review_non_positive = df_review_imb[~(df_review_imb['sentiment']=='positive')]\n",
    "\n",
    "df_review_bal = pd.concat([df_review_positive, df_review_non_positive])\n",
    "df_review_bal.reset_index(drop=True, inplace=True)"
   ]
  },
  {
   "cell_type": "code",
   "execution_count": 57,
   "id": "62e8f711",
   "metadata": {},
   "outputs": [
    {
     "name": "stdout",
     "output_type": "stream",
     "text": [
      "positive    1000\n",
      "negative    1000\n",
      "Name: sentiment, dtype: int64\n",
      "positive    9000\n",
      "negative    1000\n",
      "Name: sentiment, dtype: int64\n"
     ]
    }
   ],
   "source": [
    "print(df_review_bal['sentiment'].value_counts())\n",
    "print(df_review_imb['sentiment'].value_counts())"
   ]
  },
  {
   "cell_type": "markdown",
   "id": "0c0f709f",
   "metadata": {},
   "source": [
    "<h2>Splitting data into train and test</h2>"
   ]
  },
  {
   "cell_type": "code",
   "execution_count": 61,
   "id": "41c3f08c",
   "metadata": {},
   "outputs": [],
   "source": [
    "from sklearn.model_selection import train_test_split\n",
    "\n",
    "train,test = train_test_split(df_review_bal, test_size=0.33, random_state=42)"
   ]
  },
  {
   "cell_type": "code",
   "execution_count": 63,
   "id": "3c01d3cf",
   "metadata": {},
   "outputs": [],
   "source": [
    "train_x, train_y = train['review'], train['sentiment']\n",
    "test_x, test_y = test['review'], test['sentiment']"
   ]
  },
  {
   "cell_type": "code",
   "execution_count": 70,
   "id": "2ca3f0c6",
   "metadata": {},
   "outputs": [
    {
     "name": "stdout",
     "output_type": "stream",
     "text": [
      "positive    675\n",
      "negative    665\n",
      "Name: sentiment, dtype: int64\n",
      "negative    335\n",
      "positive    325\n",
      "Name: sentiment, dtype: int64\n"
     ]
    }
   ],
   "source": [
    "print(train_y.value_counts())\n",
    "print(test_y.value_counts())"
   ]
  },
  {
   "cell_type": "markdown",
   "id": "dd91294a",
   "metadata": {},
   "source": [
    "<h2>Text Representation (Bag of Words)</h2>"
   ]
  },
  {
   "cell_type": "markdown",
   "id": "6323988f",
   "metadata": {},
   "source": [
    "The classifiers and learning algorithms expect numerical feature vectors rather than raw text documents. We need to convert the text to a more manageable representation."
   ]
  },
  {
   "cell_type": "markdown",
   "id": "5a389355",
   "metadata": {},
   "source": [
    "<h2>Count Vectorizer</h2>"
   ]
  },
  {
   "cell_type": "code",
   "execution_count": 72,
   "id": "29f11093",
   "metadata": {},
   "outputs": [
    {
     "data": {
      "text/html": [
       "<div>\n",
       "<style scoped>\n",
       "    .dataframe tbody tr th:only-of-type {\n",
       "        vertical-align: middle;\n",
       "    }\n",
       "\n",
       "    .dataframe tbody tr th {\n",
       "        vertical-align: top;\n",
       "    }\n",
       "\n",
       "    .dataframe thead th {\n",
       "        text-align: right;\n",
       "    }\n",
       "</style>\n",
       "<table border=\"1\" class=\"dataframe\">\n",
       "  <thead>\n",
       "    <tr style=\"text-align: right;\">\n",
       "      <th></th>\n",
       "      <th>code</th>\n",
       "      <th>hate</th>\n",
       "      <th>java</th>\n",
       "      <th>love</th>\n",
       "      <th>python</th>\n",
       "      <th>writing</th>\n",
       "    </tr>\n",
       "  </thead>\n",
       "  <tbody>\n",
       "    <tr>\n",
       "      <th>review1</th>\n",
       "      <td>2</td>\n",
       "      <td>0</td>\n",
       "      <td>0</td>\n",
       "      <td>2</td>\n",
       "      <td>2</td>\n",
       "      <td>1</td>\n",
       "    </tr>\n",
       "    <tr>\n",
       "      <th>review2</th>\n",
       "      <td>2</td>\n",
       "      <td>2</td>\n",
       "      <td>2</td>\n",
       "      <td>0</td>\n",
       "      <td>0</td>\n",
       "      <td>1</td>\n",
       "    </tr>\n",
       "  </tbody>\n",
       "</table>\n",
       "</div>"
      ],
      "text/plain": [
       "         code  hate  java  love  python  writing\n",
       "review1     2     0     0     2       2        1\n",
       "review2     2     2     2     0       0        1"
      ]
     },
     "execution_count": 72,
     "metadata": {},
     "output_type": "execute_result"
    }
   ],
   "source": [
    "from sklearn.feature_extraction.text import CountVectorizer\n",
    "text = [\"I love writing code in Python. I love Python code\",\n",
    "        \"I hate writing code in Java. I hate Java code\"]\n",
    "\n",
    "df = pd.DataFrame({'review': ['review1', 'review2'], 'text':text})\n",
    "cv = CountVectorizer(stop_words='english')\n",
    "cv_matrix = cv.fit_transform(df['text'])\n",
    "df_dtm = pd.DataFrame(cv_matrix.toarray(), index=df['review'].values, columns=cv.get_feature_names_out())\n",
    "df_dtm"
   ]
  },
  {
   "cell_type": "markdown",
   "id": "4acd467e",
   "metadata": {},
   "source": [
    "<h2>Tfidf</h2>"
   ]
  },
  {
   "cell_type": "code",
   "execution_count": 73,
   "id": "95297055",
   "metadata": {},
   "outputs": [
    {
     "data": {
      "text/html": [
       "<div>\n",
       "<style scoped>\n",
       "    .dataframe tbody tr th:only-of-type {\n",
       "        vertical-align: middle;\n",
       "    }\n",
       "\n",
       "    .dataframe tbody tr th {\n",
       "        vertical-align: top;\n",
       "    }\n",
       "\n",
       "    .dataframe thead th {\n",
       "        text-align: right;\n",
       "    }\n",
       "</style>\n",
       "<table border=\"1\" class=\"dataframe\">\n",
       "  <thead>\n",
       "    <tr style=\"text-align: right;\">\n",
       "      <th></th>\n",
       "      <th>code</th>\n",
       "      <th>hate</th>\n",
       "      <th>java</th>\n",
       "      <th>love</th>\n",
       "      <th>python</th>\n",
       "      <th>writing</th>\n",
       "    </tr>\n",
       "  </thead>\n",
       "  <tbody>\n",
       "    <tr>\n",
       "      <th>review1</th>\n",
       "      <td>0.438501</td>\n",
       "      <td>0.000000</td>\n",
       "      <td>0.000000</td>\n",
       "      <td>0.616298</td>\n",
       "      <td>0.616298</td>\n",
       "      <td>0.21925</td>\n",
       "    </tr>\n",
       "    <tr>\n",
       "      <th>review2</th>\n",
       "      <td>0.438501</td>\n",
       "      <td>0.616298</td>\n",
       "      <td>0.616298</td>\n",
       "      <td>0.000000</td>\n",
       "      <td>0.000000</td>\n",
       "      <td>0.21925</td>\n",
       "    </tr>\n",
       "  </tbody>\n",
       "</table>\n",
       "</div>"
      ],
      "text/plain": [
       "             code      hate      java      love    python  writing\n",
       "review1  0.438501  0.000000  0.000000  0.616298  0.616298  0.21925\n",
       "review2  0.438501  0.616298  0.616298  0.000000  0.000000  0.21925"
      ]
     },
     "execution_count": 73,
     "metadata": {},
     "output_type": "execute_result"
    }
   ],
   "source": [
    "from sklearn.feature_extraction.text import TfidfVectorizer\n",
    "text = [\"I love writing code in Python. I love Python code\",\n",
    "        \"I hate writing code in Java. I hate Java code\"]\n",
    "\n",
    "df = pd.DataFrame({'review': ['review1', 'review2'], 'text':text})\n",
    "tfidf = TfidfVectorizer(stop_words='english')\n",
    "tfidf_matrix = tfidf.fit_transform(df['text'])\n",
    "df_dtm = pd.DataFrame(tfidf_matrix.toarray(), index=df['review'].values, columns=tfidf.get_feature_names_out())\n",
    "df_dtm"
   ]
  },
  {
   "cell_type": "markdown",
   "id": "b6f31aa1",
   "metadata": {},
   "source": [
    "<h2>Turning our text data into numerical vectors</h2>"
   ]
  },
  {
   "cell_type": "code",
   "execution_count": 75,
   "id": "239202a4",
   "metadata": {},
   "outputs": [],
   "source": [
    "tfidf = TfidfVectorizer(stop_words='english')\n",
    "train_x_vector = tfidf.fit_transform(train_x)\n",
    "# also fit the test_x_vector\n",
    "test_x_vector = tfidf.transform(test_x)\n",
    "\n",
    "# from sklearn.feature_extraction.text import CountVectorizer\n",
    "\n",
    "# cv = CountVectorizer(stop_words='english')\n",
    "# train_x_vector = cv.fit_transform(train_x)\n",
    "# test_x_vector = cv.transform(test_x)"
   ]
  },
  {
   "cell_type": "code",
   "execution_count": 76,
   "id": "7604fea4",
   "metadata": {},
   "outputs": [
    {
     "data": {
      "text/plain": [
       "<1340x20483 sparse matrix of type '<class 'numpy.float64'>'\n",
       "\twith 118619 stored elements in Compressed Sparse Row format>"
      ]
     },
     "execution_count": 76,
     "metadata": {},
     "output_type": "execute_result"
    }
   ],
   "source": [
    "train_x_vector"
   ]
  },
  {
   "cell_type": "markdown",
   "id": "83a619ef",
   "metadata": {},
   "source": [
    "Types of matrix"
   ]
  },
  {
   "cell_type": "markdown",
   "id": "154a4ffc",
   "metadata": {},
   "source": [
    "1 Sparse matrix \n"
   ]
  },
  {
   "cell_type": "markdown",
   "id": "e582b69f",
   "metadata": {},
   "source": [
    "2 Dense matrix"
   ]
  },
  {
   "cell_type": "code",
   "execution_count": 79,
   "id": "81a8ede8",
   "metadata": {},
   "outputs": [
    {
     "data": {
      "text/html": [
       "<div>\n",
       "<style scoped>\n",
       "    .dataframe tbody tr th:only-of-type {\n",
       "        vertical-align: middle;\n",
       "    }\n",
       "\n",
       "    .dataframe tbody tr th {\n",
       "        vertical-align: top;\n",
       "    }\n",
       "\n",
       "    .dataframe thead th {\n",
       "        text-align: right;\n",
       "    }\n",
       "</style>\n",
       "<table border=\"1\" class=\"dataframe\">\n",
       "  <thead>\n",
       "    <tr style=\"text-align: right;\">\n",
       "      <th></th>\n",
       "      <th>00</th>\n",
       "      <th>000</th>\n",
       "      <th>007</th>\n",
       "      <th>00am</th>\n",
       "      <th>01</th>\n",
       "      <th>02</th>\n",
       "      <th>07</th>\n",
       "      <th>08</th>\n",
       "      <th>10</th>\n",
       "      <th>100</th>\n",
       "      <th>...</th>\n",
       "      <th>zoot</th>\n",
       "      <th>zp</th>\n",
       "      <th>zucker</th>\n",
       "      <th>zurn</th>\n",
       "      <th>zwick</th>\n",
       "      <th>zzzzzzzzzzzzzzzzzz</th>\n",
       "      <th>âge</th>\n",
       "      <th>æon</th>\n",
       "      <th>élan</th>\n",
       "      <th>être</th>\n",
       "    </tr>\n",
       "  </thead>\n",
       "  <tbody>\n",
       "    <tr>\n",
       "      <th>81</th>\n",
       "      <td>0.0</td>\n",
       "      <td>0.0</td>\n",
       "      <td>0.0</td>\n",
       "      <td>0.0</td>\n",
       "      <td>0.0</td>\n",
       "      <td>0.0</td>\n",
       "      <td>0.0</td>\n",
       "      <td>0.0</td>\n",
       "      <td>0.000000</td>\n",
       "      <td>0.0</td>\n",
       "      <td>...</td>\n",
       "      <td>0.0</td>\n",
       "      <td>0.0</td>\n",
       "      <td>0.0</td>\n",
       "      <td>0.0</td>\n",
       "      <td>0.0</td>\n",
       "      <td>0.000000</td>\n",
       "      <td>0.0</td>\n",
       "      <td>0.0</td>\n",
       "      <td>0.0</td>\n",
       "      <td>0.0</td>\n",
       "    </tr>\n",
       "    <tr>\n",
       "      <th>915</th>\n",
       "      <td>0.0</td>\n",
       "      <td>0.0</td>\n",
       "      <td>0.0</td>\n",
       "      <td>0.0</td>\n",
       "      <td>0.0</td>\n",
       "      <td>0.0</td>\n",
       "      <td>0.0</td>\n",
       "      <td>0.0</td>\n",
       "      <td>0.000000</td>\n",
       "      <td>0.0</td>\n",
       "      <td>...</td>\n",
       "      <td>0.0</td>\n",
       "      <td>0.0</td>\n",
       "      <td>0.0</td>\n",
       "      <td>0.0</td>\n",
       "      <td>0.0</td>\n",
       "      <td>0.000000</td>\n",
       "      <td>0.0</td>\n",
       "      <td>0.0</td>\n",
       "      <td>0.0</td>\n",
       "      <td>0.0</td>\n",
       "    </tr>\n",
       "    <tr>\n",
       "      <th>1018</th>\n",
       "      <td>0.0</td>\n",
       "      <td>0.0</td>\n",
       "      <td>0.0</td>\n",
       "      <td>0.0</td>\n",
       "      <td>0.0</td>\n",
       "      <td>0.0</td>\n",
       "      <td>0.0</td>\n",
       "      <td>0.0</td>\n",
       "      <td>0.000000</td>\n",
       "      <td>0.0</td>\n",
       "      <td>...</td>\n",
       "      <td>0.0</td>\n",
       "      <td>0.0</td>\n",
       "      <td>0.0</td>\n",
       "      <td>0.0</td>\n",
       "      <td>0.0</td>\n",
       "      <td>0.000000</td>\n",
       "      <td>0.0</td>\n",
       "      <td>0.0</td>\n",
       "      <td>0.0</td>\n",
       "      <td>0.0</td>\n",
       "    </tr>\n",
       "    <tr>\n",
       "      <th>380</th>\n",
       "      <td>0.0</td>\n",
       "      <td>0.0</td>\n",
       "      <td>0.0</td>\n",
       "      <td>0.0</td>\n",
       "      <td>0.0</td>\n",
       "      <td>0.0</td>\n",
       "      <td>0.0</td>\n",
       "      <td>0.0</td>\n",
       "      <td>0.000000</td>\n",
       "      <td>0.0</td>\n",
       "      <td>...</td>\n",
       "      <td>0.0</td>\n",
       "      <td>0.0</td>\n",
       "      <td>0.0</td>\n",
       "      <td>0.0</td>\n",
       "      <td>0.0</td>\n",
       "      <td>0.000000</td>\n",
       "      <td>0.0</td>\n",
       "      <td>0.0</td>\n",
       "      <td>0.0</td>\n",
       "      <td>0.0</td>\n",
       "    </tr>\n",
       "    <tr>\n",
       "      <th>1029</th>\n",
       "      <td>0.0</td>\n",
       "      <td>0.0</td>\n",
       "      <td>0.0</td>\n",
       "      <td>0.0</td>\n",
       "      <td>0.0</td>\n",
       "      <td>0.0</td>\n",
       "      <td>0.0</td>\n",
       "      <td>0.0</td>\n",
       "      <td>0.110534</td>\n",
       "      <td>0.0</td>\n",
       "      <td>...</td>\n",
       "      <td>0.0</td>\n",
       "      <td>0.0</td>\n",
       "      <td>0.0</td>\n",
       "      <td>0.0</td>\n",
       "      <td>0.0</td>\n",
       "      <td>0.000000</td>\n",
       "      <td>0.0</td>\n",
       "      <td>0.0</td>\n",
       "      <td>0.0</td>\n",
       "      <td>0.0</td>\n",
       "    </tr>\n",
       "    <tr>\n",
       "      <th>...</th>\n",
       "      <td>...</td>\n",
       "      <td>...</td>\n",
       "      <td>...</td>\n",
       "      <td>...</td>\n",
       "      <td>...</td>\n",
       "      <td>...</td>\n",
       "      <td>...</td>\n",
       "      <td>...</td>\n",
       "      <td>...</td>\n",
       "      <td>...</td>\n",
       "      <td>...</td>\n",
       "      <td>...</td>\n",
       "      <td>...</td>\n",
       "      <td>...</td>\n",
       "      <td>...</td>\n",
       "      <td>...</td>\n",
       "      <td>...</td>\n",
       "      <td>...</td>\n",
       "      <td>...</td>\n",
       "      <td>...</td>\n",
       "      <td>...</td>\n",
       "    </tr>\n",
       "    <tr>\n",
       "      <th>1130</th>\n",
       "      <td>0.0</td>\n",
       "      <td>0.0</td>\n",
       "      <td>0.0</td>\n",
       "      <td>0.0</td>\n",
       "      <td>0.0</td>\n",
       "      <td>0.0</td>\n",
       "      <td>0.0</td>\n",
       "      <td>0.0</td>\n",
       "      <td>0.000000</td>\n",
       "      <td>0.0</td>\n",
       "      <td>...</td>\n",
       "      <td>0.0</td>\n",
       "      <td>0.0</td>\n",
       "      <td>0.0</td>\n",
       "      <td>0.0</td>\n",
       "      <td>0.0</td>\n",
       "      <td>0.000000</td>\n",
       "      <td>0.0</td>\n",
       "      <td>0.0</td>\n",
       "      <td>0.0</td>\n",
       "      <td>0.0</td>\n",
       "    </tr>\n",
       "    <tr>\n",
       "      <th>1294</th>\n",
       "      <td>0.0</td>\n",
       "      <td>0.0</td>\n",
       "      <td>0.0</td>\n",
       "      <td>0.0</td>\n",
       "      <td>0.0</td>\n",
       "      <td>0.0</td>\n",
       "      <td>0.0</td>\n",
       "      <td>0.0</td>\n",
       "      <td>0.000000</td>\n",
       "      <td>0.0</td>\n",
       "      <td>...</td>\n",
       "      <td>0.0</td>\n",
       "      <td>0.0</td>\n",
       "      <td>0.0</td>\n",
       "      <td>0.0</td>\n",
       "      <td>0.0</td>\n",
       "      <td>0.000000</td>\n",
       "      <td>0.0</td>\n",
       "      <td>0.0</td>\n",
       "      <td>0.0</td>\n",
       "      <td>0.0</td>\n",
       "    </tr>\n",
       "    <tr>\n",
       "      <th>860</th>\n",
       "      <td>0.0</td>\n",
       "      <td>0.0</td>\n",
       "      <td>0.0</td>\n",
       "      <td>0.0</td>\n",
       "      <td>0.0</td>\n",
       "      <td>0.0</td>\n",
       "      <td>0.0</td>\n",
       "      <td>0.0</td>\n",
       "      <td>0.000000</td>\n",
       "      <td>0.0</td>\n",
       "      <td>...</td>\n",
       "      <td>0.0</td>\n",
       "      <td>0.0</td>\n",
       "      <td>0.0</td>\n",
       "      <td>0.0</td>\n",
       "      <td>0.0</td>\n",
       "      <td>0.000000</td>\n",
       "      <td>0.0</td>\n",
       "      <td>0.0</td>\n",
       "      <td>0.0</td>\n",
       "      <td>0.0</td>\n",
       "    </tr>\n",
       "    <tr>\n",
       "      <th>1459</th>\n",
       "      <td>0.0</td>\n",
       "      <td>0.0</td>\n",
       "      <td>0.0</td>\n",
       "      <td>0.0</td>\n",
       "      <td>0.0</td>\n",
       "      <td>0.0</td>\n",
       "      <td>0.0</td>\n",
       "      <td>0.0</td>\n",
       "      <td>0.000000</td>\n",
       "      <td>0.0</td>\n",
       "      <td>...</td>\n",
       "      <td>0.0</td>\n",
       "      <td>0.0</td>\n",
       "      <td>0.0</td>\n",
       "      <td>0.0</td>\n",
       "      <td>0.0</td>\n",
       "      <td>0.181793</td>\n",
       "      <td>0.0</td>\n",
       "      <td>0.0</td>\n",
       "      <td>0.0</td>\n",
       "      <td>0.0</td>\n",
       "    </tr>\n",
       "    <tr>\n",
       "      <th>1126</th>\n",
       "      <td>0.0</td>\n",
       "      <td>0.0</td>\n",
       "      <td>0.0</td>\n",
       "      <td>0.0</td>\n",
       "      <td>0.0</td>\n",
       "      <td>0.0</td>\n",
       "      <td>0.0</td>\n",
       "      <td>0.0</td>\n",
       "      <td>0.000000</td>\n",
       "      <td>0.0</td>\n",
       "      <td>...</td>\n",
       "      <td>0.0</td>\n",
       "      <td>0.0</td>\n",
       "      <td>0.0</td>\n",
       "      <td>0.0</td>\n",
       "      <td>0.0</td>\n",
       "      <td>0.000000</td>\n",
       "      <td>0.0</td>\n",
       "      <td>0.0</td>\n",
       "      <td>0.0</td>\n",
       "      <td>0.0</td>\n",
       "    </tr>\n",
       "  </tbody>\n",
       "</table>\n",
       "<p>1340 rows × 20483 columns</p>\n",
       "</div>"
      ],
      "text/plain": [
       "       00  000  007  00am   01   02   07   08        10  100  ...  zoot   zp  \\\n",
       "81    0.0  0.0  0.0   0.0  0.0  0.0  0.0  0.0  0.000000  0.0  ...   0.0  0.0   \n",
       "915   0.0  0.0  0.0   0.0  0.0  0.0  0.0  0.0  0.000000  0.0  ...   0.0  0.0   \n",
       "1018  0.0  0.0  0.0   0.0  0.0  0.0  0.0  0.0  0.000000  0.0  ...   0.0  0.0   \n",
       "380   0.0  0.0  0.0   0.0  0.0  0.0  0.0  0.0  0.000000  0.0  ...   0.0  0.0   \n",
       "1029  0.0  0.0  0.0   0.0  0.0  0.0  0.0  0.0  0.110534  0.0  ...   0.0  0.0   \n",
       "...   ...  ...  ...   ...  ...  ...  ...  ...       ...  ...  ...   ...  ...   \n",
       "1130  0.0  0.0  0.0   0.0  0.0  0.0  0.0  0.0  0.000000  0.0  ...   0.0  0.0   \n",
       "1294  0.0  0.0  0.0   0.0  0.0  0.0  0.0  0.0  0.000000  0.0  ...   0.0  0.0   \n",
       "860   0.0  0.0  0.0   0.0  0.0  0.0  0.0  0.0  0.000000  0.0  ...   0.0  0.0   \n",
       "1459  0.0  0.0  0.0   0.0  0.0  0.0  0.0  0.0  0.000000  0.0  ...   0.0  0.0   \n",
       "1126  0.0  0.0  0.0   0.0  0.0  0.0  0.0  0.0  0.000000  0.0  ...   0.0  0.0   \n",
       "\n",
       "      zucker  zurn  zwick  zzzzzzzzzzzzzzzzzz  âge  æon  élan  être  \n",
       "81       0.0   0.0    0.0            0.000000  0.0  0.0   0.0   0.0  \n",
       "915      0.0   0.0    0.0            0.000000  0.0  0.0   0.0   0.0  \n",
       "1018     0.0   0.0    0.0            0.000000  0.0  0.0   0.0   0.0  \n",
       "380      0.0   0.0    0.0            0.000000  0.0  0.0   0.0   0.0  \n",
       "1029     0.0   0.0    0.0            0.000000  0.0  0.0   0.0   0.0  \n",
       "...      ...   ...    ...                 ...  ...  ...   ...   ...  \n",
       "1130     0.0   0.0    0.0            0.000000  0.0  0.0   0.0   0.0  \n",
       "1294     0.0   0.0    0.0            0.000000  0.0  0.0   0.0   0.0  \n",
       "860      0.0   0.0    0.0            0.000000  0.0  0.0   0.0   0.0  \n",
       "1459     0.0   0.0    0.0            0.181793  0.0  0.0   0.0   0.0  \n",
       "1126     0.0   0.0    0.0            0.000000  0.0  0.0   0.0   0.0  \n",
       "\n",
       "[1340 rows x 20483 columns]"
      ]
     },
     "execution_count": 79,
     "metadata": {},
     "output_type": "execute_result"
    }
   ],
   "source": [
    "pd.DataFrame.sparse.from_spmatrix(train_x_vector, index=train_x.index, columns = tfidf.get_feature_names_out())"
   ]
  },
  {
   "cell_type": "markdown",
   "id": "9f6b834b",
   "metadata": {},
   "source": [
    "<h2>Model Building and Selection</h2>"
   ]
  },
  {
   "cell_type": "markdown",
   "id": "d60aa92d",
   "metadata": {},
   "source": [
    "<h3>Support Vector Machines (SVM)</h3>"
   ]
  },
  {
   "cell_type": "code",
   "execution_count": 91,
   "id": "9801d071",
   "metadata": {},
   "outputs": [
    {
     "data": {
      "text/plain": [
       "array(['positive'], dtype=object)"
      ]
     },
     "execution_count": 91,
     "metadata": {},
     "output_type": "execute_result"
    }
   ],
   "source": [
    "from sklearn.svm import SVC\n",
    "\n",
    "svc = SVC(kernel='linear')\n",
    "svc.fit(train_x_vector, train_y)\n",
    "#svc.predict(train_x_vector[0])"
   ]
  },
  {
   "cell_type": "markdown",
   "id": "28f8655e",
   "metadata": {},
   "source": [
    "<h3>Testing</h3>"
   ]
  },
  {
   "cell_type": "code",
   "execution_count": 86,
   "id": "75a17623",
   "metadata": {},
   "outputs": [
    {
     "name": "stdout",
     "output_type": "stream",
     "text": [
      "['positive']\n",
      "['positive']\n",
      "['negative']\n",
      "['negative']\n",
      "['negative']\n",
      "['positive']\n"
     ]
    }
   ],
   "source": [
    "print(svc.predict(tfidf.transform(['A good movie'])))\n",
    "print(svc.predict(tfidf.transform(['An excellent movie'])))\n",
    "print(svc.predict(tfidf.transform(['\"I did not like this movie at all I gave this movie away\"'])))\n",
    "print(svc.predict(tfidf.transform(['It was a waste of money'])))\n",
    "print(svc.predict(tfidf.transform(['The story was pathetic'])))\n",
    "print(svc.predict(tfidf.transform(['Acting was upto the mark'])))"
   ]
  },
  {
   "cell_type": "markdown",
   "id": "0bb94aee",
   "metadata": {},
   "source": [
    "<h2>Decision Tree</h2>"
   ]
  },
  {
   "cell_type": "code",
   "execution_count": 92,
   "id": "de21bc56",
   "metadata": {},
   "outputs": [
    {
     "data": {
      "text/plain": [
       "DecisionTreeClassifier()"
      ]
     },
     "execution_count": 92,
     "metadata": {},
     "output_type": "execute_result"
    }
   ],
   "source": [
    "from sklearn.tree import DecisionTreeClassifier\n",
    "\n",
    "dec_tree = DecisionTreeClassifier()\n",
    "dec_tree.fit(train_x_vector, train_y)"
   ]
  },
  {
   "cell_type": "markdown",
   "id": "f81698d1",
   "metadata": {},
   "source": [
    "<h2>Naive Bayes</h2>"
   ]
  },
  {
   "cell_type": "code",
   "execution_count": 93,
   "id": "f202406b",
   "metadata": {},
   "outputs": [
    {
     "data": {
      "text/plain": [
       "GaussianNB()"
      ]
     },
     "execution_count": 93,
     "metadata": {},
     "output_type": "execute_result"
    }
   ],
   "source": [
    "from sklearn.naive_bayes import GaussianNB\n",
    "\n",
    "gnb = GaussianNB()\n",
    "gnb.fit(train_x_vector.toarray(), train_y)"
   ]
  },
  {
   "cell_type": "markdown",
   "id": "110edfd1",
   "metadata": {},
   "source": [
    "<h2>Logistic Regression</h2>"
   ]
  },
  {
   "cell_type": "code",
   "execution_count": 95,
   "id": "e0cdd598",
   "metadata": {},
   "outputs": [
    {
     "data": {
      "text/plain": [
       "LogisticRegression()"
      ]
     },
     "execution_count": 95,
     "metadata": {},
     "output_type": "execute_result"
    }
   ],
   "source": [
    "from sklearn.linear_model import LogisticRegression\n",
    "\n",
    "log_reg = LogisticRegression()\n",
    "log_reg.fit(train_x_vector, train_y)"
   ]
  },
  {
   "cell_type": "markdown",
   "id": "c601a24e",
   "metadata": {},
   "source": [
    "<h1>Model Evaluation</h1>"
   ]
  },
  {
   "cell_type": "markdown",
   "id": "ae0fc4d6",
   "metadata": {},
   "source": [
    "<h3>Mean Accuracy</h3>"
   ]
  },
  {
   "cell_type": "markdown",
   "id": "8865f6fc",
   "metadata": {},
   "source": [
    "Return the mean accuracy on the given test data and labels."
   ]
  },
  {
   "cell_type": "code",
   "execution_count": 97,
   "id": "24fac50f",
   "metadata": {},
   "outputs": [
    {
     "name": "stdout",
     "output_type": "stream",
     "text": [
      "0.8348484848484848\n",
      "0.6893939393939394\n",
      "0.6257575757575757\n",
      "0.8272727272727273\n"
     ]
    }
   ],
   "source": [
    "print(svc.score(test_x_vector, test_y))\n",
    "print(dec_tree.score(test_x_vector, test_y))\n",
    "print(gnb.score(test_x_vector.toarray(), test_y))\n",
    "print(log_reg.score(test_x_vector, test_y))\n",
    "\n",
    "# svc.score('Test samples', 'True labels')"
   ]
  },
  {
   "cell_type": "markdown",
   "id": "cc7f0316",
   "metadata": {},
   "source": [
    "<h2>F1 Score</h2>"
   ]
  },
  {
   "cell_type": "markdown",
   "id": "caf836b9",
   "metadata": {},
   "source": [
    "F1 Score is the weighted average of Precision and Recall. Accuracy is used when the True Positives and True negatives are more important while F1-score is used when the False Negatives and False Positives are crucial. Also, F1 takes into account how the data is distributed, so it's useful when you have data with imbalance classes."
   ]
  },
  {
   "cell_type": "markdown",
   "id": "4d0a5ca0",
   "metadata": {},
   "source": [
    "F1 Score = 2(Recall Precision) / (Recall + Precision)"
   ]
  },
  {
   "cell_type": "code",
   "execution_count": 98,
   "id": "5c712c63",
   "metadata": {},
   "outputs": [
    {
     "data": {
      "text/plain": [
       "array([0.83851852, 0.83100775])"
      ]
     },
     "execution_count": 98,
     "metadata": {},
     "output_type": "execute_result"
    }
   ],
   "source": [
    "from sklearn.metrics import f1_score\n",
    "\n",
    "f1_score(test_y, svc.predict(test_x_vector),\n",
    "         labels=['positive', 'negative'],\n",
    "         average=None)"
   ]
  },
  {
   "cell_type": "markdown",
   "id": "34e89808",
   "metadata": {},
   "source": [
    "<h2>Classification report</h2>"
   ]
  },
  {
   "cell_type": "markdown",
   "id": "9470c216",
   "metadata": {},
   "source": [
    "Build a text report showing the main classification metrics."
   ]
  },
  {
   "cell_type": "code",
   "execution_count": 99,
   "id": "cde57207",
   "metadata": {},
   "outputs": [
    {
     "name": "stdout",
     "output_type": "stream",
     "text": [
      "              precision    recall  f1-score   support\n",
      "\n",
      "    positive       0.81      0.87      0.84       325\n",
      "    negative       0.86      0.80      0.83       335\n",
      "\n",
      "    accuracy                           0.83       660\n",
      "   macro avg       0.84      0.84      0.83       660\n",
      "weighted avg       0.84      0.83      0.83       660\n",
      "\n"
     ]
    }
   ],
   "source": [
    "from sklearn.metrics import classification_report\n",
    "\n",
    "print(classification_report(test_y, \n",
    "                            svc.predict(test_x_vector),\n",
    "                            labels=['positive', 'negative']))\n",
    "# classification_report(y_true, y_pred)"
   ]
  },
  {
   "cell_type": "markdown",
   "id": "285f9921",
   "metadata": {},
   "source": [
    "<h2>Confusion Matrix</h2>"
   ]
  },
  {
   "cell_type": "markdown",
   "id": "5663a886",
   "metadata": {},
   "source": [
    "A confusion matrix) is a table with two rows and two columns that reports the number of false positives, false negatives, true positives, and true negatives"
   ]
  },
  {
   "cell_type": "code",
   "execution_count": 100,
   "id": "b6f02b3c",
   "metadata": {},
   "outputs": [
    {
     "data": {
      "text/plain": [
       "array([[283,  42],\n",
       "       [ 67, 268]], dtype=int64)"
      ]
     },
     "execution_count": 100,
     "metadata": {},
     "output_type": "execute_result"
    }
   ],
   "source": [
    "from sklearn.metrics import confusion_matrix\n",
    "\n",
    "conf_mat = confusion_matrix(test_y, \n",
    "                            svc.predict(test_x_vector), \n",
    "                            labels=['positive', 'negative'])\n",
    "conf_mat"
   ]
  }
 ],
 "metadata": {
  "kernelspec": {
   "display_name": "Python 3 (ipykernel)",
   "language": "python",
   "name": "python3"
  },
  "language_info": {
   "codemirror_mode": {
    "name": "ipython",
    "version": 3
   },
   "file_extension": ".py",
   "mimetype": "text/x-python",
   "name": "python",
   "nbconvert_exporter": "python",
   "pygments_lexer": "ipython3",
   "version": "3.9.12"
  }
 },
 "nbformat": 4,
 "nbformat_minor": 5
}
